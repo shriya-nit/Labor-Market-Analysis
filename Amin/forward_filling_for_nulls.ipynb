{
 "cells": [
  {
   "cell_type": "code",
   "execution_count": 2,
   "metadata": {},
   "outputs": [],
   "source": [
    "import pandas as pd"
   ]
  },
  {
   "cell_type": "code",
   "execution_count": 3,
   "metadata": {},
   "outputs": [
    {
     "name": "stderr",
     "output_type": "stream",
     "text": [
      "/var/folders/z5/2dlc2_2d15qb0wmtpf41r0j00000gn/T/ipykernel_20708/1394168678.py:1: DtypeWarning: Columns (1,4,5,11) have mixed types. Specify dtype option on import or set low_memory=False.\n",
      "  df = pd.read_csv(\"../Amin/positive_lmia_data_with_city.csv\")\n"
     ]
    },
    {
     "data": {
      "text/html": [
       "<div>\n",
       "<style scoped>\n",
       "    .dataframe tbody tr th:only-of-type {\n",
       "        vertical-align: middle;\n",
       "    }\n",
       "\n",
       "    .dataframe tbody tr th {\n",
       "        vertical-align: top;\n",
       "    }\n",
       "\n",
       "    .dataframe thead th {\n",
       "        text-align: right;\n",
       "    }\n",
       "</style>\n",
       "<table border=\"1\" class=\"dataframe\">\n",
       "  <thead>\n",
       "    <tr style=\"text-align: right;\">\n",
       "      <th></th>\n",
       "      <th>Province/Territory</th>\n",
       "      <th>Program Stream</th>\n",
       "      <th>Employer</th>\n",
       "      <th>Address</th>\n",
       "      <th>Occupation</th>\n",
       "      <th>Incorporate Status</th>\n",
       "      <th>Approved LMIAs</th>\n",
       "      <th>Approved Positions</th>\n",
       "      <th>Year</th>\n",
       "      <th>Date</th>\n",
       "      <th>Post Code</th>\n",
       "      <th>NOC</th>\n",
       "      <th>City</th>\n",
       "    </tr>\n",
       "  </thead>\n",
       "  <tbody>\n",
       "    <tr>\n",
       "      <th>0</th>\n",
       "      <td>Newfoundland and Labrador</td>\n",
       "      <td>High Wage</td>\n",
       "      <td>78075 Newfoundland &amp; Labrador Inc</td>\n",
       "      <td>Fogo, NL A0G 2B0</td>\n",
       "      <td>0212-Architecture and science managers</td>\n",
       "      <td>Unknown</td>\n",
       "      <td>1.0</td>\n",
       "      <td>1.0</td>\n",
       "      <td>2023</td>\n",
       "      <td>October 2023</td>\n",
       "      <td>A0G 2B0</td>\n",
       "      <td>0212</td>\n",
       "      <td>Northeast Newfoundland (Lewisporte)</td>\n",
       "    </tr>\n",
       "    <tr>\n",
       "      <th>1</th>\n",
       "      <td>Newfoundland and Labrador</td>\n",
       "      <td>High Wage</td>\n",
       "      <td>AB Complex Inc.</td>\n",
       "      <td>Gander, NL A1V 1X3</td>\n",
       "      <td>0124-Advertising, marketing and public relatio...</td>\n",
       "      <td>Unknown</td>\n",
       "      <td>1.0</td>\n",
       "      <td>1.0</td>\n",
       "      <td>2023</td>\n",
       "      <td>October 2023</td>\n",
       "      <td>A1V 1X3</td>\n",
       "      <td>0124</td>\n",
       "      <td>Gander</td>\n",
       "    </tr>\n",
       "    <tr>\n",
       "      <th>2</th>\n",
       "      <td>Newfoundland and Labrador</td>\n",
       "      <td>High Wage</td>\n",
       "      <td>AB Complex Inc.</td>\n",
       "      <td>Gander, NL A1V 1X3</td>\n",
       "      <td>1311-Accounting technicians and bookkeepers</td>\n",
       "      <td>Unknown</td>\n",
       "      <td>1.0</td>\n",
       "      <td>1.0</td>\n",
       "      <td>2023</td>\n",
       "      <td>October 2023</td>\n",
       "      <td>A1V 1X3</td>\n",
       "      <td>1311</td>\n",
       "      <td>Gander</td>\n",
       "    </tr>\n",
       "    <tr>\n",
       "      <th>3</th>\n",
       "      <td>Newfoundland and Labrador</td>\n",
       "      <td>High Wage</td>\n",
       "      <td>Central Health</td>\n",
       "      <td>Grand Falls-Windsor, NL A2A 1Y4</td>\n",
       "      <td>3111-Specialist physicians</td>\n",
       "      <td>Unknown</td>\n",
       "      <td>3.0</td>\n",
       "      <td>3.0</td>\n",
       "      <td>2023</td>\n",
       "      <td>October 2023</td>\n",
       "      <td>A2A 1Y4</td>\n",
       "      <td>3111</td>\n",
       "      <td>Grand Falls</td>\n",
       "    </tr>\n",
       "    <tr>\n",
       "      <th>4</th>\n",
       "      <td>Newfoundland and Labrador</td>\n",
       "      <td>High Wage</td>\n",
       "      <td>Dory's Way Inc</td>\n",
       "      <td>Whitbourne, NL A0B 3K0</td>\n",
       "      <td>1241-Administrative assistants</td>\n",
       "      <td>Unknown</td>\n",
       "      <td>1.0</td>\n",
       "      <td>1.0</td>\n",
       "      <td>2023</td>\n",
       "      <td>October 2023</td>\n",
       "      <td>A0B 3K0</td>\n",
       "      <td>1241</td>\n",
       "      <td>Western Avalon Peninsula (Argentia)</td>\n",
       "    </tr>\n",
       "  </tbody>\n",
       "</table>\n",
       "</div>"
      ],
      "text/plain": [
       "          Province/Territory Program Stream  \\\n",
       "0  Newfoundland and Labrador      High Wage   \n",
       "1  Newfoundland and Labrador      High Wage   \n",
       "2  Newfoundland and Labrador      High Wage   \n",
       "3  Newfoundland and Labrador      High Wage   \n",
       "4  Newfoundland and Labrador      High Wage   \n",
       "\n",
       "                            Employer                          Address  \\\n",
       "0  78075 Newfoundland & Labrador Inc                 Fogo, NL A0G 2B0   \n",
       "1                    AB Complex Inc.               Gander, NL A1V 1X3   \n",
       "2                    AB Complex Inc.               Gander, NL A1V 1X3   \n",
       "3                     Central Health  Grand Falls-Windsor, NL A2A 1Y4   \n",
       "4                     Dory's Way Inc           Whitbourne, NL A0B 3K0   \n",
       "\n",
       "                                          Occupation Incorporate Status  \\\n",
       "0             0212-Architecture and science managers            Unknown   \n",
       "1  0124-Advertising, marketing and public relatio...            Unknown   \n",
       "2        1311-Accounting technicians and bookkeepers            Unknown   \n",
       "3                         3111-Specialist physicians            Unknown   \n",
       "4                     1241-Administrative assistants            Unknown   \n",
       "\n",
       "   Approved LMIAs  Approved Positions  Year          Date Post Code   NOC  \\\n",
       "0             1.0                 1.0  2023  October 2023   A0G 2B0  0212   \n",
       "1             1.0                 1.0  2023  October 2023   A1V 1X3  0124   \n",
       "2             1.0                 1.0  2023  October 2023   A1V 1X3  1311   \n",
       "3             3.0                 3.0  2023  October 2023   A2A 1Y4  3111   \n",
       "4             1.0                 1.0  2023  October 2023   A0B 3K0  1241   \n",
       "\n",
       "                                  City  \n",
       "0  Northeast Newfoundland (Lewisporte)  \n",
       "1                               Gander  \n",
       "2                               Gander  \n",
       "3                          Grand Falls  \n",
       "4  Western Avalon Peninsula (Argentia)  "
      ]
     },
     "execution_count": 3,
     "metadata": {},
     "output_type": "execute_result"
    }
   ],
   "source": [
    "df = pd.read_csv(\"../Amin/positive_lmia_data_with_city.csv\")\n",
    "df.head()"
   ]
  },
  {
   "cell_type": "code",
   "execution_count": 4,
   "metadata": {},
   "outputs": [
    {
     "name": "stderr",
     "output_type": "stream",
     "text": [
      "/var/folders/z5/2dlc2_2d15qb0wmtpf41r0j00000gn/T/ipykernel_20708/4063518819.py:2: FutureWarning: DataFrame.fillna with 'method' is deprecated and will raise in a future version. Use obj.ffill() or obj.bfill() instead.\n",
      "  df = df.fillna(method='ffill')\n"
     ]
    }
   ],
   "source": [
    "# Fill NaNs by forward-filling across the entire DataFrame\n",
    "df = df.fillna(method='ffill')"
   ]
  },
  {
   "cell_type": "code",
   "execution_count": 8,
   "metadata": {},
   "outputs": [],
   "source": [
    "df.to_csv(\"positive_lmia_data_with_city_with_forward_filling.csv\")"
   ]
  },
  {
   "cell_type": "code",
   "execution_count": 9,
   "metadata": {},
   "outputs": [
    {
     "data": {
      "text/plain": [
       "Province/Territory    0\n",
       "Program Stream        0\n",
       "Employer              0\n",
       "Address               0\n",
       "Occupation            0\n",
       "Incorporate Status    0\n",
       "Approved LMIAs        0\n",
       "Approved Positions    0\n",
       "Year                  0\n",
       "Date                  0\n",
       "Post Code             0\n",
       "NOC                   0\n",
       "City                  0\n",
       "dtype: int64"
      ]
     },
     "execution_count": 9,
     "metadata": {},
     "output_type": "execute_result"
    }
   ],
   "source": [
    "df.isnull().sum()"
   ]
  }
 ],
 "metadata": {
  "kernelspec": {
   "display_name": "base",
   "language": "python",
   "name": "python3"
  },
  "language_info": {
   "codemirror_mode": {
    "name": "ipython",
    "version": 3
   },
   "file_extension": ".py",
   "mimetype": "text/x-python",
   "name": "python",
   "nbconvert_exporter": "python",
   "pygments_lexer": "ipython3",
   "version": "3.12.4"
  },
  "orig_nbformat": 4
 },
 "nbformat": 4,
 "nbformat_minor": 2
}
